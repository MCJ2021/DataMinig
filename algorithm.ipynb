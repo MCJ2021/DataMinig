{
  "nbformat": 4,
  "nbformat_minor": 0,
  "metadata": {
    "colab": {
      "provenance": []
    },
    "kernelspec": {
      "name": "python3",
      "display_name": "Python 3"
    },
    "language_info": {
      "name": "python"
    }
  },
  "cells": [
    {
      "cell_type": "code",
      "execution_count": null,
      "metadata": {
        "id": "_ypOuEXd8kzV"
      },
      "outputs": [],
      "source": [
        "!pip install kmodes"
      ]
    },
    {
      "cell_type": "code",
      "source": [
        "from google.colab import files\n",
        "uploaded = files.upload()"
      ],
      "metadata": {
        "id": "n9gHFPueXOkp"
      },
      "execution_count": null,
      "outputs": []
    },
    {
      "cell_type": "code",
      "source": [
        "import pandas as pd\n",
        "\n",
        "# Read your dataset into a DataFrame\n",
        "data = pd.read_csv(\"Dataset.csv\")\n",
        "\n",
        "# Extract characteristics\n",
        "features = data[\"Characteristic\"]\n",
        "\n",
        "# Extract and reformat values for Biobankable and Not biobankable\n",
        "values = data[[\"Biobankable (n = 313)\", \"Not biobankable (n = 634)\"]]\n",
        "values = values.applymap(lambda x: int(float(x.split()[0])) if isinstance(x, str) else x)\n",
        "\n",
        "\n"
      ],
      "metadata": {
        "id": "eY196TyvTbzL"
      },
      "execution_count": 3,
      "outputs": []
    },
    {
      "cell_type": "code",
      "source": [
        "from kmodes.kmodes import KModes\n",
        "values.fillna(0, inplace=True)\n",
        "\n",
        "# Define K-Modes model\n",
        "km = KModes(n_clusters=4, init='Huang', n_init=5, verbose=1)\n",
        "\n",
        "# Fit the model to the data\n",
        "clusters = km.fit_predict(values)\n",
        "\n",
        "# Add cluster assignments to the dataset\n",
        "data['Cluster'] = clusters\n",
        "\n",
        "# Display results\n",
        "print(data)  # Entire dataset with clusters\n",
        "\n"
      ],
      "metadata": {
        "id": "2PGRbZt98mei"
      },
      "execution_count": null,
      "outputs": []
    },
    {
      "cell_type": "code",
      "source": [
        "# Add cluster assignments to the dataset\n",
        "data['Cluster'] = clusters\n",
        "\n",
        "# Display results\n",
        "print(data.head())  # First 5 rows of the DataFrame with clusters\n",
        "\n",
        "# Optional: Summary of the clusters\n",
        "print(data['Cluster'].value_counts())  # Number of data points in each cluster\n",
        "\n"
      ],
      "metadata": {
        "id": "IkpjAChE8r1A"
      },
      "execution_count": null,
      "outputs": []
    },
    {
      "cell_type": "markdown",
      "source": [],
      "metadata": {
        "id": "Q4ahSuf-QmTa"
      }
    }
  ]
}